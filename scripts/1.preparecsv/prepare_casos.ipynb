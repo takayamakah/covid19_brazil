{
 "cells": [
  {
   "cell_type": "code",
   "execution_count": 1,
   "metadata": {},
   "outputs": [],
   "source": [
    "#importa bibliotecas utilizadas no programa\n",
    "import os\n",
    "import time\n",
    "import pandas"
   ]
  },
  {
   "cell_type": "code",
   "execution_count": 2,
   "metadata": {},
   "outputs": [],
   "source": [
    "#especifica caminho do diretório\n",
    "path = 'C:\\\\Users\\\\ktakayam\\\\Pessoal\\\\Estudos\\\\Covid19\\\\Amostragem'"
   ]
  },
  {
   "cell_type": "code",
   "execution_count": 3,
   "metadata": {},
   "outputs": [],
   "source": [
    "#especifica data atual\n",
    "datenow = time.strftime('%Y%m%d', time.localtime())"
   ]
  },
  {
   "cell_type": "code",
   "execution_count": 4,
   "metadata": {},
   "outputs": [],
   "source": [
    "#especifica caminhos dos arquivos de entrada e saída\n",
    "paths = {}\n",
    "paths['input'] = (f'{path}\\\\casos_full.csv')\n",
    "paths['outputuf'] = (f'{path}\\\\casos_full_ufs_{datenow}.csv')\n",
    "paths['outputct'] = (f'{path}\\\\casos_full_cities_{datenow}.csv')"
   ]
  },
  {
   "cell_type": "code",
   "execution_count": 5,
   "metadata": {},
   "outputs": [],
   "source": [
    "#lê arquivo de entrada (datasource)\n",
    "datasource = pandas.read_csv(paths['input'])"
   ]
  },
  {
   "cell_type": "code",
   "execution_count": 6,
   "metadata": {},
   "outputs": [],
   "source": [
    "#filtra dados de ufs e cidades\n",
    "#separa os registros do arquivo de origem por ufs e cidades\n",
    "casosfull_ufs = datasource[datasource['city'].isnull()]\n",
    "casosfull_cities = datasource[datasource['city'].notnull()]"
   ]
  },
  {
   "cell_type": "code",
   "execution_count": 7,
   "metadata": {},
   "outputs": [],
   "source": [
    "#cria arquivo de saída (ufs)\n",
    "ds = casosfull_ufs.drop(columns='city')\n",
    "ds.to_csv(paths['outputuf'], index=False)"
   ]
  },
  {
   "cell_type": "code",
   "execution_count": 8,
   "metadata": {},
   "outputs": [],
   "source": [
    "#cria arquivo de saída (cidades)\n",
    "ds = casosfull_cities\n",
    "ds.to_csv(paths['outputct'], index=False)"
   ]
  },
  {
   "cell_type": "code",
   "execution_count": 9,
   "metadata": {},
   "outputs": [
    {
     "name": "stdout",
     "output_type": "stream",
     "text": [
      "Arquivos Prontos!\n"
     ]
    }
   ],
   "source": [
    "#Imprime sucesso do programa\n",
    "print('Arquivos Prontos!')"
   ]
  },
  {
   "cell_type": "code",
   "execution_count": 10,
   "metadata": {},
   "outputs": [
    {
     "name": "stdout",
     "output_type": "stream",
     "text": [
      "Arquivo (ufs): [1235] registros processados!\n",
      "Arquivo (cities): [68308] registros processados!\n",
      "Total de Registros processados: [69543]!\n"
     ]
    }
   ],
   "source": [
    "#Imprime quantidade de registros processados em cada arquivo e no total\n",
    "print(f'Arquivo (ufs): [{casosfull_ufs.shape[0]}] registros processados!')\n",
    "print(f'Arquivo (cities): [{casosfull_cities.shape[0]}] registros processados!')\n",
    "print(f'Total de Registros processados: [{casosfull_ufs.shape[0]+casosfull_cities.shape[0]}]!')"
   ]
  }
 ],
 "metadata": {
  "kernelspec": {
   "display_name": "Python 3",
   "language": "python",
   "name": "python3"
  },
  "language_info": {
   "codemirror_mode": {
    "name": "ipython",
    "version": 3
   },
   "file_extension": ".py",
   "mimetype": "text/x-python",
   "name": "python",
   "nbconvert_exporter": "python",
   "pygments_lexer": "ipython3",
   "version": "3.8.5"
  }
 },
 "nbformat": 4,
 "nbformat_minor": 4
}
